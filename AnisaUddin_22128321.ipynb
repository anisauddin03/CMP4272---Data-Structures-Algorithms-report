{
  "cells": [
    {
      "cell_type": "markdown",
      "metadata": {
        "id": "0aApGlVP8zqB"
      },
      "source": [
        "# CMP4272 Data Structures & Algorithms - Technical Report by Anisa Uddin\n",
        "\n",
        "This notebook is compiled along with the technical report (document). Below are the algorithms and code discussed in the report.\n",
        "\n",
        "To maximise the performance of the code blocks, run them in order."
      ]
    },
    {
      "cell_type": "markdown",
      "metadata": {
        "id": "LC25jIPB95rR"
      },
      "source": [
        "A1. Python code covering the algorithms: linear search, binary search, selection sort and quick sort"
      ]
    },
    {
      "cell_type": "code",
      "execution_count": 120,
      "metadata": {
        "colab": {
          "base_uri": "https://localhost:8080/"
        },
        "id": "c242_Pmx8KlL",
        "outputId": "dde5dccc-b2b7-4499-d0f2-04362b4056c2"
      },
      "outputs": [
        {
          "name": "stdout",
          "output_type": "stream",
          "text": [
            "1\n"
          ]
        }
      ],
      "source": [
        "# linear search function\n",
        "\n",
        "def linear_search(lst, target):\n",
        "\n",
        "  for i, value in enumerate(lst):\n",
        "    # for each value, it checks if value is equivalent to target\n",
        "    if value == target:\n",
        "      # returns the index of target if it is found, loop and function ends\n",
        "      return i\n",
        "  # returns value (-1) if target is not found\n",
        "  return -1\n",
        "\n",
        "# test case below\n",
        "\n",
        "list1 = [1, 2, 3, 4]\n",
        "print(linear_search(list1, 2))"
      ]
    },
    {
      "cell_type": "code",
      "execution_count": 121,
      "metadata": {
        "colab": {
          "base_uri": "https://localhost:8080/"
        },
        "id": "poKpxK6I947v",
        "outputId": "5c23c355-8d7e-42b5-a14c-947997989204"
      },
      "outputs": [
        {
          "name": "stdout",
          "output_type": "stream",
          "text": [
            "3\n"
          ]
        }
      ],
      "source": [
        "# binary search function\n",
        "\n",
        "# begin with an interval which covers the whole array\n",
        "def binary_search(lst, target):\n",
        "  left = 0\n",
        "  right = len(lst) - 1\n",
        "\n",
        "# if value of the search key is less than the item in the middle of interval, the integer division rounds down narrowing the interval to the lower half\n",
        "# if value is not less than the item in the middle of the interval, narrow it to the upper half\n",
        "  while left <= right:\n",
        "    middle = (left + right)//2\n",
        "    value = lst[middle]\n",
        "\n",
        "    if value == target:\n",
        "# return the index (target found)\n",
        "      return middle\n",
        "    elif value < target:\n",
        "# narrows lower half further (to the left)\n",
        "      left = middle + 1\n",
        "    else:\n",
        "# increases upper half (to the right)\n",
        "      right = middle - 1\n",
        "\n",
        "#returns value (-1) if x is not found\n",
        "  return -1\n",
        "\n",
        "# test case below\n",
        "\n",
        "list2 = [20, 30, 2, 4, 87, 96, 43, 1]\n",
        "print(binary_search(list2, 4))"
      ]
    },
    {
      "cell_type": "code",
      "execution_count": 122,
      "metadata": {
        "colab": {
          "base_uri": "https://localhost:8080/"
        },
        "id": "hC4Vpvq5GY_w",
        "outputId": "bba3f4bb-86fa-4d0b-891a-68e20cb3ec83"
      },
      "outputs": [
        {
          "name": "stdout",
          "output_type": "stream",
          "text": [
            "[1, 3, 7, 13, 34, 37, 56, 87, 670, 928, 8907]\n"
          ]
        }
      ],
      "source": [
        "# selection sort algorithm\n",
        "\n",
        "def selection_sort(lst):\n",
        "# set min_index to location of i (0)\n",
        "  n = len(lst)\n",
        "  for i in range(n):\n",
        "    min_index = i\n",
        "# search for the minimum element in the list\n",
        "    for j in range(i+1, n):\n",
        "      if lst[j] < lst[min_index]:\n",
        "        min_index = j\n",
        "\n",
        "# swap with value at location min_index\n",
        "    tmp = lst[i]\n",
        "    lst[i] = lst[min_index]\n",
        "# increment min_index to point to the next element\n",
        "    lst[min_index] = tmp\n",
        "  return lst\n",
        "\n",
        "# test case below\n",
        "\n",
        "list3 = [8907, 670, 1, 3, 37, 56, 87, 7, 928, 34, 13]\n",
        "print(selection_sort(list3))"
      ]
    },
    {
      "cell_type": "code",
      "execution_count": 123,
      "metadata": {
        "colab": {
          "base_uri": "https://localhost:8080/"
        },
        "id": "G7E6EKPLO3Np",
        "outputId": "c4713c7d-ec1c-4d8c-c839-ca37cc413459"
      },
      "outputs": [
        {
          "name": "stdout",
          "output_type": "stream",
          "text": [
            "[2, 6, 9, 11, 23, 33, 54, 98, 113, 675, 2138]\n"
          ]
        }
      ],
      "source": [
        "# quick sort algorithm\n",
        "\n",
        "def partition(lst,low,high):\n",
        "# index of smaller pivot\n",
        "  i = ( low-1 )\n",
        "  pivot = lst[high]\n",
        "\n",
        "  for j in range(low, high):\n",
        "# if current element is smaller than pivot, then increment index of smaller element\n",
        "    if lst[j] < pivot:\n",
        "\n",
        "      i = i+1\n",
        "      lst[i],lst[j] = lst[j],lst[i]\n",
        "  lst[i+1],lst[high] = lst[high],lst[i+1]\n",
        "  return ( i+1 )\n",
        "\n",
        "# quick sort function\n",
        "\n",
        "def quick_sort(lst,low,high):\n",
        "  if low < high:\n",
        "    # pi is partitioning index, lst[p] is now at correct location\n",
        "    pi = partition(lst,low,high)\n",
        "\n",
        "    # sort the elemtns before partition and after partition\n",
        "    quick_sort(lst, low, pi-1)\n",
        "    quick_sort(lst, pi+1, high)\n",
        "  return lst\n",
        "\n",
        "# test case below\n",
        "\n",
        "list4 = [675, 23, 6, 54, 33, 2, 11, 9, 2138, 98, 113]\n",
        "size = len(list4)\n",
        "\n",
        "print(quick_sort(list4, 0, size - 1 ))"
      ]
    },
    {
      "cell_type": "markdown",
      "metadata": {
        "id": "jEt83CnBcMsL"
      },
      "source": [
        "A2. Below are python code to test the correctness of the algorithms in A1"
      ]
    },
    {
      "cell_type": "code",
      "execution_count": 124,
      "metadata": {
        "colab": {
          "base_uri": "https://localhost:8080/"
        },
        "id": "yFjJMvMcaoCX",
        "outputId": "68526a73-e479-4508-97d3-431086d3ab80"
      },
      "outputs": [
        {
          "name": "stdout",
          "output_type": "stream",
          "text": [
            "Entered sucessfully\n",
            "target Must be integer\n"
          ]
        }
      ],
      "source": [
        "# test linear search (precondition)\n",
        "\n",
        "\"\"\"What must be true before executing linear search is the number to be searched\n",
        "   for is compatible with data in the array\"\"\"\n",
        "\n",
        "# successful pass\n",
        "\n",
        "def start_program(target: int):\n",
        "    assert isinstance(target, int), 'Invalid data entry, target must be an integer'\n",
        "    assert int, 'No target found...'\n",
        "\n",
        "    print('Entered sucessfully')\n",
        "\n",
        "if __name__ == '__main__':\n",
        "  test_list = [78, 32, 4, 2, 89, 0]\n",
        "  num = test_list[0]\n",
        "  start_program(target=num)\n",
        "\n",
        "# unsuccessful pass\n",
        "  test_list2 = [87, 'c', 'b', 'd', 6]\n",
        "\n",
        "  try:\n",
        "      num2 = test_list['c']\n",
        "      start_program(target=num2)\n",
        "  except TypeError:\n",
        "    print('target Must be integer')\n",
        "\n"
      ]
    },
    {
      "cell_type": "code",
      "execution_count": 125,
      "metadata": {
        "colab": {
          "base_uri": "https://localhost:8080/"
        },
        "id": "uk3Ji9pHcmsK",
        "outputId": "edd2ec7d-866e-4837-d98d-d38ee71e89cf"
      },
      "outputs": [
        {
          "name": "stdout",
          "output_type": "stream",
          "text": [
            "The index of 4 is:  1 (Pass!)\n",
            "The index of 9 is:  0 (Pass!)\n",
            "Incorrect value/target for index, it should be 5\n"
          ]
        }
      ],
      "source": [
        "# test linear search (postcondition)\n",
        "\n",
        "linear_list1 = [9, 4, 5, 32, 1, 3]\n",
        "linear_list2 = [4, 2, 124, 43, 21]\n",
        "linear_list3 = [123, 23, 1, 2, 3]\n",
        "\n",
        "# succesful pass of linear_list1\n",
        "\n",
        "# set the target to the index() function, which returns true\n",
        "try:\n",
        "  linear_search(linear_list1, 4) == linear_list1.index(4)\n",
        "  #set the condition through assert and error message to debug\n",
        "  assert (linear_search(linear_list1, 4) == linear_list1.index(4))\n",
        "  #test\n",
        "  print('The index of 4 is: ', linear_search(linear_list1, 4), '(Pass!)')\n",
        "except AssertionError:\n",
        "  print('Incorrect value/target for index, it should be 4')\n",
        "\n",
        "# successful pass of linear_list1\n",
        "\n",
        "try:\n",
        "  linear_search(linear_list1, 9) == linear_list1.index(9)\n",
        "  assert (linear_search(linear_list1, 9) == linear_list1.index(9))\n",
        "  print('The index of 9 is: ', linear_search(linear_list1, 9), '(Pass!)')\n",
        "except AssertionError:\n",
        "  print('Incorrect value/target for index, it should be 9')\n",
        "\n",
        "# unsuccesful pass of linear_list1\n",
        "\n",
        "# condition is false and raises AssertionError\n",
        "\n",
        "try:\n",
        "  linear_search(linear_list1, 2) == linear_list1.index(5)\n",
        "  assert (linear_search(linear_list1, 2) == linear_list1.index(5))\n",
        "  print('The index of 2 is: ', linear_search(linear_list1, 2), '(Pass!)')\n",
        "except AssertionError:\n",
        "  print('Incorrect value/target for index, it should be 5')\n",
        "\n"
      ]
    },
    {
      "cell_type": "markdown",
      "metadata": {
        "id": "dhD5LibCVXEz"
      },
      "source": [
        "**Reference of the lists below:**\n",
        "\n",
        "\n",
        "\n",
        "linear_list1 = [9, 4, 5, 32, 1, 3]\n",
        "\n",
        "linear_list2 = [4, 2, 124, 43, 21]\n",
        "\n",
        "linear_list3 = [123, 23, 1, 2, 3]"
      ]
    },
    {
      "cell_type": "code",
      "execution_count": 126,
      "metadata": {
        "colab": {
          "base_uri": "https://localhost:8080/"
        },
        "id": "-QYeSu9HR39i",
        "outputId": "82d61073-6281-408f-ed83-433e0712dd7b"
      },
      "outputs": [
        {
          "name": "stdout",
          "output_type": "stream",
          "text": [
            "The index of 21 is:  4 (Pass!)\n",
            "The index of 124 is:  2 (Pass!)\n",
            "Incorrect value/target for index, it should be 21\n"
          ]
        }
      ],
      "source": [
        "# successful pass of linear_list2\n",
        "try:\n",
        "  linear_search(linear_list2, 21) == linear_list2.index(21)\n",
        "  assert (linear_search(linear_list2, 21) == linear_list2.index(21))\n",
        "  print('The index of 21 is: ', linear_search(linear_list2, 21), '(Pass!)')\n",
        "except AssertionError:\n",
        "  print('Incorrect value/target for index, it should be 21')\n",
        "\n",
        "# successful pass of linear_list2\n",
        "\n",
        "try:\n",
        "  linear_search(linear_list2, 124) == linear_list2.index(124)\n",
        "  assert (linear_search(linear_list2, 124) == linear_list2.index(124))\n",
        "  print('The index of 124 is: ', linear_search(linear_list2, 124), '(Pass!)')\n",
        "except AssertionError:\n",
        "  print('Incorrect value/target for index, it should be 124')\n",
        "\n",
        "# unsuccessful pass of linear_list2\n",
        "\n",
        "# raises AssertionError, prompts user to fix\n",
        "\n",
        "try:\n",
        "  linear_search(linear_list2, 3) == linear_list2.index(21)\n",
        "  assert (linear_search(linear_list2, 3) == linear_list2.index(21))\n",
        "  print('The index of 2 is: ', linear_search(linear_list2, 3), '(Pass!)')\n",
        "except AssertionError:\n",
        "  print('Incorrect value/target for index, it should be 21')"
      ]
    },
    {
      "cell_type": "markdown",
      "metadata": {
        "id": "YG1GQgwaViIw"
      },
      "source": [
        "**Reference of the list below:**\n",
        "\n",
        "linear_list1 = [9, 4, 5, 32, 1, 3]\n",
        "\n",
        "linear_list2 = [4, 2, 124, 43, 21]\n",
        "\n",
        "linear_list3 = [123, 23, 1, 2, 3]"
      ]
    },
    {
      "cell_type": "code",
      "execution_count": 127,
      "metadata": {
        "colab": {
          "base_uri": "https://localhost:8080/"
        },
        "id": "tNnjXW4XShUj",
        "outputId": "c2c43606-bf0a-4a63-fe2a-b444baa16697"
      },
      "outputs": [
        {
          "name": "stdout",
          "output_type": "stream",
          "text": [
            "The index of 123 is:  0 (Pass!)\n",
            "The index of 2 is:  3 (Pass!)\n",
            "Incorrect value/target for index, it should be 23\n"
          ]
        }
      ],
      "source": [
        "# successful pass of linear_list3\n",
        "\n",
        "try:\n",
        "  linear_search(linear_list3, 123) == linear_list3.index(123)\n",
        "  assert (linear_search(linear_list3, 123) == linear_list3.index(123))\n",
        "  print('The index of 123 is: ', linear_search(linear_list3, 123), '(Pass!)')\n",
        "except AssertionError:\n",
        "  print('Incorrect value/target for index, it should be 123')\n",
        "\n",
        "# successful pass of linear_list3\n",
        "\n",
        "try:\n",
        "  linear_search(linear_list3, 2) == linear_list3.index(2)\n",
        "  assert (linear_search(linear_list3, 2) == linear_list3.index(2))\n",
        "  print('The index of 2 is: ', linear_search(linear_list3, 2), '(Pass!)')\n",
        "except AssertionError:\n",
        "  print('Incorrect value/target for index, it should be 2')\n",
        "\n",
        "# unsuccesful pass of linear_list3\n",
        "\n",
        "try:\n",
        "  linear_search(linear_list3, 23) == linear_list3.index(23)\n",
        "  assert (linear_search(linear_list3, 2) == linear_list3.index(23))\n",
        "  print('The index of 23 is: ', linear_search(linear_list3, 23), '(Pass!)')\n",
        "except AssertionError:\n",
        "  print('Incorrect value/target for index, it should be 23')"
      ]
    },
    {
      "cell_type": "code",
      "execution_count": 128,
      "metadata": {
        "colab": {
          "base_uri": "https://localhost:8080/"
        },
        "id": "an3HsDR_fh12",
        "outputId": "35036560-78d2-4e25-e5bf-806f59172c6a"
      },
      "outputs": [
        {
          "name": "stdout",
          "output_type": "stream",
          "text": [
            "The index of 23 is:  4 (Pass!)\n",
            "Incorrect value/target for index, it should be 345\n",
            "Incorrect value/target for index, it should be 72\n"
          ]
        }
      ],
      "source": [
        "# test binary search (postcondition)\n",
        "\n",
        "binary_search_list1 = [345, 76, 38, 1, 23, 543, 72]\n",
        "binary_search_list2 = [64, 2432, 12, 8, 90, 43]\n",
        "binary_search_list3 = [99, 321, 67, 83, 2, 5, 9, 17]\n",
        "\n",
        "# successful pass of binary_search_list1\n",
        "\n",
        "try:\n",
        "  binary_search(binary_search_list1, 23) == binary_search_list1.index(23)\n",
        "  assert (binary_search(binary_search_list1, 23)) == binary_search_list1.index(23)\n",
        "  print('The index of 23 is: ', binary_search(binary_search_list1, 23), '(Pass!)')\n",
        "except AssertionError:\n",
        "  print('Incorrect value/target for index, it should be 23')\n",
        "\n",
        "# unsuccessful pass of binary_search_list1\n",
        "\n",
        "try:\n",
        "  binary_search(binary_search_list1, 345) == binary_search_list1.index(345)\n",
        "  assert (binary_search(binary_search_list1, 345)) == binary_search_list1.index(345)\n",
        "  print('The index of 345 is: ', binary_search(binary_search_list1, 345), '(Pass!)')\n",
        "except AssertionError:\n",
        "  print('Incorrect value/target for index, it should be 345')\n",
        "\n",
        "# unsuccessful pass of binary_search_list1\n",
        "\n",
        "try:\n",
        "  binary_search(binary_search_list1, 72) == binary_search_list1.index(72)\n",
        "  assert (binary_search(binary_search_list1, 72)) == binary_search_list1.index(72)\n",
        "  print('The index of 72 is: ', binary_search(binary_search_list1, 72), '(Pass!)')\n",
        "except AssertionError:\n",
        "  print('Incorrect value/target for index, it should be 72')"
      ]
    },
    {
      "cell_type": "markdown",
      "metadata": {
        "id": "25Z_AiCzOEPS"
      },
      "source": [
        "**List reference:**\n",
        "\n",
        "binary_search_list1 = [345, 76, 38, 1, 23, 543, 72]\n",
        "\n",
        "binary_search_list2 = [64, 2432, 12, 8, 90, 43]\n",
        "\n",
        "binary_search_list3 = [99, 321, 67, 83, 2, 5, 9, 17]"
      ]
    },
    {
      "cell_type": "code",
      "execution_count": 136,
      "metadata": {
        "colab": {
          "base_uri": "https://localhost:8080/"
        },
        "id": "93k111HrOMsO",
        "outputId": "f428a486-0a70-48d8-f2fd-7b4abcc62b94"
      },
      "outputs": [
        {
          "name": "stdout",
          "output_type": "stream",
          "text": [
            "The index of 90 is:  4 (Pass!)\n",
            "Incorrect value/target for index, it should be 64\n",
            "The index of 12 is:  2 (Pass!)\n"
          ]
        }
      ],
      "source": [
        "# successful pass of binary_search_list2\n",
        "\n",
        "try:\n",
        "  binary_search(binary_search_list2, 90) == binary_search_list2.index(90)\n",
        "  assert (binary_search(binary_search_list2, 90)) == binary_search_list2.index(90)\n",
        "  print('The index of 90 is: ', binary_search(binary_search_list2, 90), '(Pass!)')\n",
        "except AssertionError:\n",
        "  print('Incorrect value/target for index, it should be 90')\n",
        "\n",
        "# unsuccessful pass of binary_search_list2\n",
        "\n",
        "try:\n",
        "  binary_search(binary_search_list2, 64) == binary_search_list2.index(64)\n",
        "  assert (binary_search(binary_search_list2, 64)) == binary_search_list2.index(64)\n",
        "  print('The index of 64 is: ', binary_search(binary_search_list2, 64), '(Pass!)')\n",
        "except AssertionError:\n",
        "  print('Incorrect value/target for index, it should be 64')\n",
        "\n",
        "# successful pass of binary_search_list2\n",
        "\n",
        "try:\n",
        "  binary_search(binary_search_list2, 12) == binary_search_list2.index(12)\n",
        "  assert (binary_search(binary_search_list2, 12)) == binary_search_list2.index(12)\n",
        "  print('The index of 12 is: ', binary_search(binary_search_list2, 12), '(Pass!)')\n",
        "except AssertionError:\n",
        "  print('Incorrect value/target for index, it should be 12')"
      ]
    },
    {
      "cell_type": "markdown",
      "metadata": {
        "id": "jm1uzKW4VJAU"
      },
      "source": [
        "**List reference:**\n",
        "\n",
        "binary_search_list1 = [345, 76, 38, 1, 23, 543, 72]\n",
        "\n",
        "binary_search_list2 = [64, 2432, 12, 8, 90, 43]\n",
        "\n",
        "binary_search_list3 = [99, 321, 67, 83, 2, 5, 9, 17]"
      ]
    },
    {
      "cell_type": "code",
      "execution_count": 140,
      "metadata": {
        "colab": {
          "base_uri": "https://localhost:8080/"
        },
        "id": "wwnFnlXTVGvD",
        "outputId": "d7417f9e-a40a-4cb9-e4f2-0d7eb275bc69"
      },
      "outputs": [
        {
          "name": "stdout",
          "output_type": "stream",
          "text": [
            "Incorrect value/target for index, it should be 99\n",
            "The index of 83 is:  3 (Pass!)\n",
            "Incorrect value/target for index, it should be 9\n"
          ]
        }
      ],
      "source": [
        "# unsuccessful pass of binary_search_list3\n",
        "\n",
        "try:\n",
        "  binary_search(binary_search_list3, 99) == binary_search_list3.index(99)\n",
        "  assert binary_search(binary_search_list3, 99) == binary_search_list3.index(99)\n",
        "  print('The index of 99 is: ', binary_search(binary_search_list3, 99), '(Pass!)')\n",
        "except AssertionError:\n",
        "  print('Incorrect value/target for index, it should be 99')\n",
        "\n",
        "# successful pass of binary_search_list3\n",
        "\n",
        "try:\n",
        "  binary_search(binary_search_list3, 83) == binary_search_list3.index(83)\n",
        "  assert binary_search(binary_search_list3, 83) == binary_search_list3.index(83)\n",
        "  print('The index of 83 is: ', binary_search(binary_search_list3, 83), '(Pass!)')\n",
        "except AssertionError:\n",
        "  print('Incorrect value/target for index, it should be 83')\n",
        "\n",
        "# unsuccessful pass of binary_search_list3\n",
        "\n",
        "try:\n",
        "  binary_search(binary_search_list3, 9) == binary_search_list3.index(9)\n",
        "  assert binary_search(binary_search_list3, 9) == binary_search_list3.index(9)\n",
        "  print('The index of 9 is: ', binary_search(binary_search_list3, 9), '(Pass!)')\n",
        "except AssertionError:\n",
        "  print('Incorrect value/target for index, it should be 9')"
      ]
    },
    {
      "cell_type": "code",
      "execution_count": 150,
      "metadata": {
        "colab": {
          "base_uri": "https://localhost:8080/"
        },
        "id": "c0ejWKGLWc56",
        "outputId": "9a390d8b-a5de-43ad-97c4-4412d745e04f"
      },
      "outputs": [
        {
          "name": "stdout",
          "output_type": "stream",
          "text": [
            "Pass!\n"
          ]
        }
      ],
      "source": [
        "# testing selection sort\n",
        "\n",
        "selection_list1 = [34, 54, 2, 34, 21, 435475]\n",
        "selection_list2 = [4354, 32, 1, 3, 432, 76]\n",
        "selection_list3 = [321431, 45, 43,2 , 14, 47, 83, 35, 8, 3]\n",
        "\n",
        "#testing selection_list1\n",
        "# successful lists\n",
        "\n",
        "def test_selection_sort():\n",
        "    # Test case 1\n",
        "    selection_list1 = [34, 54, 2, 34, 21, 435475]\n",
        "    selection_sort(selection_list1)\n",
        "    assert selection_list1 == [2, 21, 34, 34, 54, 435475]\n",
        "\n",
        "    # Test case 2\n",
        "    selection_list2 = [4354, 32, 1, 3, 432, 76]\n",
        "    selection_sort(selection_list2)\n",
        "    assert selection_list2 == [1, 3, 32, 76, 432, 4354]\n",
        "\n",
        "    # Test case 3\n",
        "    selection_list3 = [321431, 45, 43,2 , 14, 47, 83, 35, 8, 3]\n",
        "    selection_sort(selection_list3)\n",
        "    assert selection_list3 == [2, 3, 8, 14, 35, 43, 45, 47, 83, 321431]\n",
        "\n",
        "    print(\"Pass!\")\n",
        "\n",
        "# Run the test cases\n",
        "test_selection_sort()"
      ]
    },
    {
      "cell_type": "code",
      "execution_count": 158,
      "metadata": {
        "colab": {
          "base_uri": "https://localhost:8080/"
        },
        "id": "WVFfEd5dc0zh",
        "outputId": "bf0825d3-4990-417f-97d7-02bde3623882"
      },
      "outputs": [
        {
          "name": "stdout",
          "output_type": "stream",
          "text": [
            "All tests pass.\n"
          ]
        }
      ],
      "source": [
        "# testing quick sort\n",
        "\n",
        "# successful quick sort lists\n",
        "\n",
        "def test_quick_sort():\n",
        "    # Test case 1\n",
        "    quick_sort1 = [3, 1, 24, 1, 324315, 9, 2, 6, 211235, 34, 5]\n",
        "    size1 = len(quick_sort1)\n",
        "    sorted_list1 = quick_sort(quick_sort1, 0, size1 - 1)\n",
        "    assert sorted_list1 == [1, 1, 2, 3, 5, 6, 9, 24, 34, 211235, 324315]\n",
        "\n",
        "    # Test case 2\n",
        "    quick_sort2 = [5, 324, 3, 2423, 1]\n",
        "    size2 = len(quick_sort2)\n",
        "    sorted_list2 = quick_sort(quick_sort2, 0, size2 - 1)\n",
        "    assert sorted_list2 == [1, 3, 5, 324, 2423]\n",
        "\n",
        "    # Test case 3\n",
        "    quick_sort3 = [3241, 2, 989084, 4214, 50]\n",
        "    size3 = len(quick_sort3)\n",
        "    sorted_list3 = quick_sort(quick_sort3, 0, size3 - 1)\n",
        "    assert sorted_list3 == [2, 50, 3241, 4214, 989084]\n",
        "\n",
        "    print(\"All tests pass.\")\n",
        "\n",
        "# Run the test cases\n",
        "test_quick_sort()"
      ]
    },
    {
      "cell_type": "markdown",
      "metadata": {
        "id": "_FWBiKNdhVzS"
      },
      "source": [
        "B2. **Computing the running time for the Selection sort and Quick sort algorithms**\n",
        "\n",
        "Includes Quick Sort (first element as pivot) and Quick Sort (randomly selected pivot). The selection sort and quick sort (last element) algorithms are in A1.\n",
        "\n",
        "*Run the coding blocks in order for best peformance*"
      ]
    },
    {
      "cell_type": "code",
      "execution_count": 174,
      "metadata": {
        "colab": {
          "base_uri": "https://localhost:8080/"
        },
        "id": "SeZJMx9q73KF",
        "outputId": "9e64cb75-884a-412a-efe2-9fd04422cabe"
      },
      "outputs": [
        {
          "name": "stdout",
          "output_type": "stream",
          "text": [
            "0 2 3 9 21 32 76 213 213 12132 \n"
          ]
        }
      ],
      "source": [
        "# quick sort (first element as pivot)\n",
        "\n",
        "def partition(lst, low, high):\n",
        "\n",
        "    # First Element as pivot\n",
        "    pivot = lst[low]\n",
        "\n",
        "    # The start points to the starting item of list\n",
        "    start = low + 1\n",
        "\n",
        "    # end points to the last item of the list\n",
        "    end = high\n",
        "\n",
        "    while True:\n",
        "        # an indication all items/elements have been shifted to the correct side of pivot\n",
        "        while start <= end and lst[end] >= pivot:\n",
        "            end = end - 1\n",
        "\n",
        "        # opposing process\n",
        "        while start <= end and lst[start] <= pivot:\n",
        "            start = start + 1\n",
        "\n",
        "        # Case in where loop is exits\n",
        "        if start <= end:\n",
        "            lst[start], lst[end] = lst[end], lst[start]\n",
        "            # loop continues\n",
        "        else:\n",
        "            # exit out of loop\n",
        "            break\n",
        "\n",
        "    lst[low], lst[end] = lst[end], lst[low]\n",
        "    # pivot element is retrieved, index is end\n",
        "    # pivot element is at sorted position\n",
        "    # return pivot element index (end)\n",
        "    return end\n",
        "\n",
        "# The main function that implements QuickSort\n",
        "# lst[] --> Array to be sorted,\n",
        "# low --> Starting index,\n",
        "# high --> Ending index\n",
        "def quick_sort_first(lst, start, end):\n",
        "\n",
        "    # If low is lesser than high\n",
        "    if start < end:\n",
        "\n",
        "        # idx is index of pivot element which is at its\n",
        "        # sorted position\n",
        "        idx = partition(lst, start, end)\n",
        "\n",
        "        # Separately sort elements before\n",
        "        # partition and after partition\n",
        "        quick_sort_first(lst, start, idx-1)\n",
        "        quick_sort_first(lst, idx+1, end)\n",
        "\n",
        "# Function to print the list\n",
        "def print_lst(lst, n):\n",
        "    for i in range(n):\n",
        "        print(lst[i], end=\" \")\n",
        "    print()\n",
        "\n",
        "#\n",
        "list12 = [213, 32, 12132, 76, 0, 2, 213, 21, 3, 9]\n",
        "quick_sort_first(list12, 0, len(list12)-1)\n",
        "print_lst(list12, len(list12))"
      ]
    },
    {
      "cell_type": "code",
      "execution_count": 175,
      "metadata": {
        "colab": {
          "base_uri": "https://localhost:8080/"
        },
        "id": "2p9n7Q1qAgnj",
        "outputId": "87f2a514-02bd-41a9-fee4-424fd04f0ec7"
      },
      "outputs": [
        {
          "name": "stdout",
          "output_type": "stream",
          "text": [
            "[3, 4, 6, 9, 38, 86, 90, 432, 473, 1038, 7585]\n"
          ]
        }
      ],
      "source": [
        "# quick sort (random pivot)\n",
        "\n",
        "import random\n",
        "\n",
        "'''\n",
        "The function which implements QuickSort.\n",
        "lst :- list required to be sorted\n",
        "start :- starting index of the list\n",
        "stop :- ending index of the list\n",
        "'''\n",
        "def quicksort_random(lst, start , stop):\n",
        "    if(start < stop):\n",
        "\n",
        "        # pivotindex is the index where\n",
        "        # the pivot lies in the list\n",
        "        pivotindex = partitionrand(lst,\\\n",
        "                             start, stop)\n",
        "\n",
        "        # the list is partially sorted around pivot\n",
        "        # sort the left and right of the list seperately\n",
        "        quicksort_random(lst , start , pivotindex-1)\n",
        "        quicksort_random(lst, pivotindex + 1, stop)\n",
        "\n",
        "# function to generate random pivot\n",
        "\n",
        "# swaps first element of the pivot and calls partition function\n",
        "def partitionrand(lst , start, stop):\n",
        "\n",
        "    # Generate a random number in the list between starting and ending index\n",
        "    #  of list\n",
        "    randpivot = random.randrange(start, stop)\n",
        "\n",
        "    # Swapping the starting element of\n",
        "    # the array and the pivot\n",
        "    lst[start], lst[randpivot] = \\\n",
        "        lst[randpivot], lst[start]\n",
        "    return partition(lst, start, stop)\n",
        "\n",
        "# test case\n",
        "if __name__ == \"__main__\":\n",
        "    quick_random = [90, 38, 7585, 3, 432, 4, 6, 473, 86, 9, 1038]\n",
        "    quicksort_random(quick_random, 0, len(quick_random) - 1)\n",
        "    print(quick_random)"
      ]
    },
    {
      "cell_type": "code",
      "execution_count": 181,
      "metadata": {
        "colab": {
          "base_uri": "https://localhost:8080/"
        },
        "id": "CQsudQNEGk6M",
        "outputId": "188f4021-46cc-418e-f39e-c702a7c25275"
      },
      "outputs": [
        {
          "name": "stdout",
          "output_type": "stream",
          "text": [
            "Selection Sort:\n",
            "Input Size\tRunning Time (seconds)\n",
            "5\t\t0.000007\n",
            "10\t\t0.000014\n",
            "15\t\t0.000022\n",
            "100\t\t0.000568\n",
            "1000\t\t0.052630\n",
            "10000\t\t5.275766\n",
            "\n",
            "Quick Sort (First element as Pivot):\n",
            "Input Size\tRunning Time (seconds)\n",
            "5\t\t0.000008\n",
            "10\t\t0.000015\n",
            "15\t\t0.000016\n",
            "100\t\t0.000142\n",
            "1000\t\t0.002088\n",
            "10000\t\t0.029815\n",
            "\n",
            "Quick Sort (Last element as Pivot):\n",
            "Input Size\tRunning Time (seconds)\n",
            "5\t\t0.000008\n",
            "10\t\t0.000015\n",
            "15\t\t0.000029\n",
            "100\t\t0.000138\n",
            "1000\t\t0.002021\n",
            "10000\t\t0.027817\n",
            "\n",
            "Quick Sort (Randomly selected Pivot):\n",
            "Input Size\tRunning Time (seconds)\n",
            "5\t\t0.000021\n",
            "10\t\t0.000026\n",
            "15\t\t0.000028\n",
            "100\t\t0.000218\n",
            "1000\t\t0.002666\n",
            "10000\t\t0.035547\n"
          ]
        }
      ],
      "source": [
        "# Generation of natural numbers\n",
        "\n",
        "import time\n",
        "import random\n",
        "\n",
        "# calculate sum of list of numbers\n",
        "def list_sum(numbers):\n",
        "    \"\"\"\n",
        "    Function to find the sum of a list of numbers\n",
        "\n",
        "    Parameters:\n",
        "    - numbers: List of numbers\n",
        "\n",
        "    Returns:\n",
        "    - sum: Sum of the numbers in the list\n",
        "    \"\"\"\n",
        "    total_sum = 0\n",
        "    for sublist in numbers:\n",
        "        for num in sublist:\n",
        "            total_sum += num\n",
        "    return total_sum\n",
        "\n",
        "\"\"\"Below are randomly generated numbers covering numbers from the table.\n",
        "\n",
        "Input size adn lsit are made for each data entry. This is\n",
        "sorted through selection sort and quick sort functions.\n",
        "\n",
        "For each list, time is recorded and output. This is recorded in the table\n",
        "of the report.\"\"\"\n",
        "\n",
        "# Define the input size\n",
        "\n",
        "input_sizes = [5, 10, 15, 100, 1000, 10000]\n",
        "\n",
        "# Measure running time for Selection Sort\n",
        "print(\"Selection Sort:\")\n",
        "print(\"Input Size\\tRunning Time (seconds)\")\n",
        "for size in input_sizes:\n",
        "    input_list = random.sample(range(size * 10), size)  # Generate random input list\n",
        "    start_time = time.time()\n",
        "    selection_sort(input_list)\n",
        "    end_time = time.time()\n",
        "    elapsed_time = end_time - start_time\n",
        "    print(f\"{size}\\t\\t{elapsed_time:.6f}\")\n",
        "\n",
        "# Measure running time for Quick Sort (First element as pivot)\n",
        "print(\"\\nQuick Sort (First element as Pivot):\")\n",
        "print(\"Input Size\\tRunning Time (seconds)\")\n",
        "for size in input_sizes:\n",
        "    input_list = random.sample(range(size * 10), size)  # Generate random input list\n",
        "    start_time = time.time()\n",
        "    quick_sort_first(input_list, 0, len(input_list)-1)\n",
        "    end_time = time.time()\n",
        "    elapsed_time = end_time - start_time\n",
        "    print(f\"{size}\\t\\t{elapsed_time:.6f}\")\n",
        "\n",
        "# Measure running time for Quick Sort (Last element as pivot)\n",
        "print(\"\\nQuick Sort (Last element as Pivot):\")\n",
        "print(\"Input Size\\tRunning Time (seconds)\")\n",
        "for size in input_sizes:\n",
        "    input_list = random.sample(range(size * 10), size)  # Generate random input list\n",
        "    start_time = time.time()\n",
        "    quick_sort(input_list, 0, len(input_list)-1)\n",
        "    end_time = time.time()\n",
        "    elapsed_time = end_time - start_time\n",
        "    print(f\"{size}\\t\\t{elapsed_time:.6f}\")\n",
        "\n",
        "# Measure running time for Quick Sort random\n",
        "print(\"\\nQuick Sort (Randomly selected Pivot):\")\n",
        "print(\"Input Size\\tRunning Time (seconds)\")\n",
        "for size in input_sizes:\n",
        "    input_list = random.sample(range(size * 10), size)  # Generate random input list\n",
        "    start_time = time.time()\n",
        "    quicksort_random(input_list, 0, len(input_list)-1)\n",
        "    end_time = time.time()\n",
        "    elapsed_time = end_time - start_time\n",
        "    print(f\"{size}\\t\\t{elapsed_time:.6f}\")"
      ]
    }
  ],
  "metadata": {
    "colab": {
      "provenance": []
    },
    "kernelspec": {
      "display_name": "Python 3",
      "name": "python3"
    },
    "language_info": {
      "name": "python"
    }
  },
  "nbformat": 4,
  "nbformat_minor": 0
}
